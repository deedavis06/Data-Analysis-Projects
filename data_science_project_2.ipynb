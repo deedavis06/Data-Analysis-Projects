{
 "cells": [
  {
   "cell_type": "code",
   "execution_count": 192,
   "metadata": {},
   "outputs": [],
   "source": [
    "import pandas as pd"
   ]
  },
  {
   "cell_type": "code",
   "execution_count": 193,
   "metadata": {},
   "outputs": [],
   "source": [
    "df=pd.read_csv(r'C:\\Users\\JoeDe\\Downloads\\adult.data.csv')\n"
   ]
  },
  {
   "cell_type": "code",
   "execution_count": 194,
   "metadata": {},
   "outputs": [
    {
     "name": "stdout",
     "output_type": "stream",
     "text": [
      "age    39.433547\n",
      "Name: Male, dtype: float64\n"
     ]
    }
   ],
   "source": [
    "\n",
    "average_age=df[['sex','age']].groupby('sex').mean()\n",
    "average_age_men=average_age.loc['Male']\n",
    "print (average_age_men)"
   ]
  },
  {
   "cell_type": "code",
   "execution_count": 195,
   "metadata": {},
   "outputs": [
    {
     "name": "stdout",
     "output_type": "stream",
     "text": [
      "White                 27816\n",
      "Black                  3124\n",
      "Asian-Pac-Islander     1039\n",
      "Amer-Indian-Eskimo      311\n",
      "Other                   271\n",
      "Name: race, dtype: int64\n"
     ]
    }
   ],
   "source": [
    "race_count = df['race'].value_counts()\n",
    "print(race_count)\n"
   ]
  },
  {
   "cell_type": "code",
   "execution_count": 196,
   "metadata": {},
   "outputs": [
    {
     "name": "stdout",
     "output_type": "stream",
     "text": [
      "           education\n",
      "Bachelors       16.0\n"
     ]
    }
   ],
   "source": [
    "# What is the percentage of people who have a Bachelor's degree?\n",
    "ed = df.loc[df['education'] == 'Bachelors','education']\n",
    "percentage = round(ed.value_counts()/df.shape[0] *100)\n",
    "percentage_bachelors=pd.DataFrame(percentage) \n",
    "print(percentage_bachelors)"
   ]
  },
  {
   "cell_type": "code",
   "execution_count": 197,
   "metadata": {},
   "outputs": [],
   "source": [
    "# What percentage of people with advanced education (`Bachelors`, `Masters`, or `Doctorate`) make more than 50K?\n",
    "    # What percentage of people without advanced education make more than 50K?\n",
    "\n",
    "# with and without `Bachelors`, `Masters`, or `Doctorate`\n",
    "info=df[['education', 'salary']]\n",
    "# What percentage of people with advanced education (`Bachelors`, `Masters`, or `Doctorate`) make more than 50K?\n",
    "higher_ed= info[info['education'].isin(['Bachelors', 'Masters', 'Doctorate'])]\n",
    "higher_per=round(higher_ed.loc[(df['salary']=='>50K')].value_counts().sum()/higher_ed.shape[0]*100)\n",
    " # What percentage of people without advanced education make more than 50K?\n",
    "lower_ed=info[~info['education'].isin(['Bachelors', 'Masters', 'Doctorate'])]\n",
    "lower_per=round(lower_ed.loc[(df['salary']=='>50K')].value_counts().sum()/lower_ed.shape[0]*100)\n",
    "\n",
    "\n",
    "\n"
   ]
  },
  {
   "cell_type": "code",
   "execution_count": 198,
   "metadata": {},
   "outputs": [
    {
     "name": "stdout",
     "output_type": "stream",
     "text": [
      "1\n"
     ]
    }
   ],
   "source": [
    "# What is the minimum number of hours a person works per week (hours-per-week feature)?\n",
    "\n",
    "min_work_hours=df['hours-per-week'].min()\n",
    "print(min_work_hours)"
   ]
  },
  {
   "cell_type": "code",
   "execution_count": 199,
   "metadata": {},
   "outputs": [
    {
     "name": "stdout",
     "output_type": "stream",
     "text": [
      "10\n"
     ]
    }
   ],
   "source": [
    "# What percentage of the people who work the minimum number of hours per week have a salary of >50K?\n",
    "    \n",
    "min_hours=df[['hours-per-week', 'salary']]\n",
    "num_min_hr=min_hours['hours-per-week'] == 1\n",
    "num_min_workers=(min_hours['hours-per-week'] == 1) & (min_hours['salary'] == '>50K')\n",
    "rich_percentage=round((min_hours[num_min_workers].shape[0]/min_hours[num_min_hr].shape[0]*100))\n",
    "print(rich_percentage)"
   ]
  },
  {
   "cell_type": "code",
   "execution_count": 212,
   "metadata": {},
   "outputs": [
    {
     "name": "stdout",
     "output_type": "stream",
     "text": [
      "Prof-specialty\n"
     ]
    }
   ],
   "source": [
    "# Identify the most popular occupation for those who earn >50K in India.\n",
    "oc_india=df[(df['native-country'] == 'India') & (df['salary']== '>50K')]\n",
    "top_IN_occupation = oc_india['occupation'].value_counts().idxmax()\n",
    "print(top_IN_occupation)"
   ]
  },
  {
   "cell_type": "code",
   "execution_count": 200,
   "metadata": {},
   "outputs": [
    {
     "name": "stdout",
     "output_type": "stream",
     "text": [
      "Iran\n",
      "42\n"
     ]
    }
   ],
   "source": [
    "# What country has the highest percentage of people that earn >50K?\n",
    "con= df[['native-country','salary']]\n",
    "con_earning=con[con['salary']== '>50K'].value_counts(con['native-country'])\n",
    "con_start=con['native-country'].value_counts()\n",
    "highest_earning_country=(con_earning/con_start).idxmax()\n",
    "highest_earning_country_percentage= round((con_earning/con_start).max()*100)\n",
    "\n",
    "\n",
    "print(highest_earning_country)\n",
    "print(highest_earning_country_percentage)\n",
    "#highest_earning_country = None\n",
    "#highest_earning_country_percentage = None\n"
   ]
  },
  {
   "cell_type": "code",
   "execution_count": 190,
   "metadata": {},
   "outputs": [
    {
     "name": "stdout",
     "output_type": "stream",
     "text": [
      "?                            NaN\n",
      "Cambodia                     NaN\n",
      "Canada                       NaN\n",
      "China                        NaN\n",
      "Columbia                     NaN\n",
      "Cuba                         NaN\n",
      "Dominican-Republic           NaN\n",
      "Ecuador                      NaN\n",
      "El-Salvador                  NaN\n",
      "England                      NaN\n",
      "France                       NaN\n",
      "Germany                      NaN\n",
      "Greece                       NaN\n",
      "Guatemala                    NaN\n",
      "Haiti                        NaN\n",
      "Holand-Netherlands           NaN\n",
      "Honduras                     NaN\n",
      "Hong                         NaN\n",
      "Hungary                      NaN\n",
      "India                        NaN\n",
      "Iran                         NaN\n",
      "Ireland                      NaN\n",
      "Italy                        NaN\n",
      "Jamaica                      NaN\n",
      "Japan                        NaN\n",
      "Laos                         NaN\n",
      "Mexico                       NaN\n",
      "Nicaragua                    NaN\n",
      "Outlying-US(Guam-USVI-etc)   NaN\n",
      "Peru                         NaN\n",
      "Philippines                  NaN\n",
      "Poland                       NaN\n",
      "Portugal                     NaN\n",
      "Puerto-Rico                  NaN\n",
      "Scotland                     NaN\n",
      "South                        NaN\n",
      "Taiwan                       NaN\n",
      "Thailand                     NaN\n",
      "Trinadad&Tobago              NaN\n",
      "United-States                NaN\n",
      "Vietnam                      NaN\n",
      "Yugoslavia                   NaN\n",
      "age                          NaN\n",
      "capital-gain                 NaN\n",
      "capital-loss                 NaN\n",
      "education                    NaN\n",
      "education-num                NaN\n",
      "fnlwgt                       NaN\n",
      "hours-per-week               NaN\n",
      "marital-status               NaN\n",
      "occupation                   NaN\n",
      "race                         NaN\n",
      "relationship                 NaN\n",
      "salary                       NaN\n",
      "sex                          NaN\n",
      "workclass                    NaN\n",
      "dtype: float64\n"
     ]
    }
   ],
   "source": [
    "rich_countries = df[df['salary'] == '>50K'].groupby('native-country')[].count()\n",
    "rich_country = (rich_countries / df.groupby('native-country')['native-country'].count()).idxmax()\n",
    "rich_country_per =  (rich_countries / df.groupby('native-country')['native-country'].count()).max() * 100\n",
    "print(rich_country_per)"
   ]
  },
  {
   "cell_type": "code",
   "execution_count": null,
   "metadata": {},
   "outputs": [],
   "source": []
  }
 ],
 "metadata": {
  "kernelspec": {
   "display_name": "Python 3.10.7 64-bit",
   "language": "python",
   "name": "python3"
  },
  "language_info": {
   "codemirror_mode": {
    "name": "ipython",
    "version": 3
   },
   "file_extension": ".py",
   "mimetype": "text/x-python",
   "name": "python",
   "nbconvert_exporter": "python",
   "pygments_lexer": "ipython3",
   "version": "3.10.7"
  },
  "orig_nbformat": 4,
  "vscode": {
   "interpreter": {
    "hash": "f6f7792fa8fe7fcaccc3e1fb304e8ac4ae961e3947fbb048d74f1654152bb044"
   }
  }
 },
 "nbformat": 4,
 "nbformat_minor": 2
}
