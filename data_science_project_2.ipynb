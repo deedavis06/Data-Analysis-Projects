{
 "cells": [
  {
   "cell_type": "code",
   "execution_count": 192,
   "metadata": {},
   "outputs": [],
   "source": [
    "import pandas as pd"
   ]
  },
  {
   "cell_type": "code",
   "execution_count": 193,
   "metadata": {},
   "outputs": [],
   "source": [
    "df=pd.read_csv(r'C:\\adult.data.csv')\n"
   ]
  },
  {
   "cell_type": "code",
   "execution_count": 194,
   "metadata": {},
   "outputs": [
    {
     "name": "stdout",
     "output_type": "stream",
     "text": [
      "age    39.433547\n",
      "Name: Male, dtype: float64\n"
     ]
    }
   ],
   "source": [
    "\n",
    "average_age=df[['sex','age']].groupby('sex').mean()\n",
    "average_age_men=average_age.loc['Male']\n",
    "print (average_age_men)"
   ]
  },
  {
   "cell_type": "code",
   "execution_count": 195,
   "metadata": {},
   "outputs": [
    {
     "name": "stdout",
     "output_type": "stream",
     "text": [
      "White                 27816\n",
      "Black                  3124\n",
      "Asian-Pac-Islander     1039\n",
      "Amer-Indian-Eskimo      311\n",
      "Other                   271\n",
      "Name: race, dtype: int64\n"
     ]
    }
   ],
   "source": [
    "race_count = df['race'].value_counts()\n",
    "print(race_count)\n"
   ]
  },
  {
   "cell_type": "code",
   "execution_count": 196,
   "metadata": {},
   "outputs": [
    {
     "name": "stdout",
     "output_type": "stream",
     "text": [
      "           education\n",
      "Bachelors       16.0\n"
     ]
    }
   ],
   "source": [
    "# What is the percentage of people who have a Bachelor's degree?\n",
    "ed = df.loc[df['education'] == 'Bachelors','education']\n",
    "percentage = round(ed.value_counts()/df.shape[0] *100)\n",
    "percentage_bachelors=pd.DataFrame(percentage) \n",
    "print(percentage_bachelors)"
   ]
  },
  {
   "cell_type": "code",
   "execution_count": 197,
   "metadata": {},
   "outputs": [],
   "source": [
    "# What percentage of people with advanced education (`Bachelors`, `Masters`, or `Doctorate`) make more than 50K?\n",
    "    # What percentage of people without advanced education make more than 50K?\n",
    "\n",
    "# with and without `Bachelors`, `Masters`, or `Doctorate`\n",
    "info=df[['education', 'salary']]\n",
    "# What percentage of people with advanced education (`Bachelors`, `Masters`, or `Doctorate`) make more than 50K?\n",
    "higher_ed= info[info['education'].isin(['Bachelors', 'Masters', 'Doctorate'])]\n",
    "higher_per=round(higher_ed.loc[(df['salary']=='>50K')].value_counts().sum()/higher_ed.shape[0]*100)\n",
    " # What percentage of people without advanced education make more than 50K?\n",
    "lower_ed=info[~info['education'].isin(['Bachelors', 'Masters', 'Doctorate'])]\n",
    "lower_per=round(lower_ed.loc[(df['salary']=='>50K')].value_counts().sum()/lower_ed.shape[0]*100)\n",
    "\n",
    "\n",
    "\n"
   ]
  },
  {
   "cell_type": "code",
   "execution_count": 198,
   "metadata": {},
   "outputs": [
    {
     "name": "stdout",
     "output_type": "stream",
     "text": [
      "1\n"
     ]
    }
   ],
   "source": [
    "# What is the minimum number of hours a person works per week (hours-per-week feature)?\n",
    "\n",
    "min_work_hours=df['hours-per-week'].min()\n",
    "print(min_work_hours)"
   ]
  },
  {
   "cell_type": "code",
   "execution_count": 199,
   "metadata": {},
   "outputs": [
    {
     "name": "stdout",
     "output_type": "stream",
     "text": [
      "10\n"
     ]
    }
   ],
   "source": [
    "# What percentage of the people who work the minimum number of hours per week have a salary of >50K?\n",
    "    \n",
    "min_hours=df[['hours-per-week', 'salary']]\n",
    "num_min_hr=min_hours['hours-per-week'] == 1\n",
    "num_min_workers=(min_hours['hours-per-week'] == 1) & (min_hours['salary'] == '>50K')\n",
    "rich_percentage=round((min_hours[num_min_workers].shape[0]/min_hours[num_min_hr].shape[0]*100))\n",
    "print(rich_percentage)"
   ]
  },
  {
   "cell_type": "code",
   "execution_count": 212,
   "metadata": {},
   "outputs": [
    {
     "name": "stdout",
     "output_type": "stream",
     "text": [
      "Prof-specialty\n"
     ]
    }
   ],
   "source": [
    "# Identify the most popular occupation for those who earn >50K in India.\n",
    "oc_india=df[(df['native-country'] == 'India') & (df['salary']== '>50K')]\n",
    "top_IN_occupation = oc_india['occupation'].value_counts().idxmax()\n",
    "print(top_IN_occupation)"
   ]
  },
  {
   "cell_type": "code",
   "execution_count": 200,
   "metadata": {},
   "outputs": [
    {
     "name": "stdout",
     "output_type": "stream",
     "text": [
      "Iran\n",
      "42\n"
     ]
    }
   ],
   "source": [
    "# What country has the highest percentage of people that earn >50K?\n",
    "con= df[['native-country','salary']]\n",
    "con_earning=con[con['salary']== '>50K'].value_counts(con['native-country'])\n",
    "con_start=con['native-country'].value_counts()\n",
    "highest_earning_country=(con_earning/con_start).idxmax()\n",
    "highest_earning_country_percentage= round((con_earning/con_start).max()*100)\n",
    "\n",
    "\n",
    "print(highest_earning_country)\n",
    "print(highest_earning_country_percentage)\n",
    "#highest_earning_country = None\n",
    "#highest_earning_country_percentage = None\n"
   ]
  
